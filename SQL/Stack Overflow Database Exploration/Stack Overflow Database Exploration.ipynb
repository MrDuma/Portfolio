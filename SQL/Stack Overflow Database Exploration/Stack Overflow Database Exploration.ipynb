{
 "cells": [
  {
   "cell_type": "markdown",
   "id": "3ea37676",
   "metadata": {},
   "source": [
    "# Исследование базы данных StackOverflow за 2008 год"
   ]
  },
  {
   "cell_type": "markdown",
   "id": "6d2af6f1",
   "metadata": {},
   "source": [
    "Цель исследования - с помощью SQL посчитать и визуализировать метрики сервис-системы вопросов и ответов о программировании.\n",
    "\n",
    "В базе данных содержится информация о постах и пользователях сервиса."
   ]
  },
  {
   "cell_type": "markdown",
   "id": "36856fe4",
   "metadata": {},
   "source": [
    "## Обзор данных"
   ]
  },
  {
   "cell_type": "markdown",
   "id": "6455c145",
   "metadata": {},
   "source": [
    "`выводим первые пять строк таблицы users`\n",
    "\n",
    "``` sql \n",
    "SELECT *\n",
    "FROM stackoverflow.users\n",
    "LIMIT 5\n",
    "```"
   ]
  },
  {
   "cell_type": "markdown",
   "id": "5682c17a",
   "metadata": {},
   "source": [
    "<table cellpadding=\"0\" cellspacing=\"0\" style=\"margin: 0;\"><thead><tr><th scope=\"col\">id</th><th scope=\"col\">creation_date</th><th scope=\"col\">display_name</th><th scope=\"col\">last_access_date</th><th scope=\"col\">location</th><th scope=\"col\">reputation</th><th scope=\"col\">views</th></tr></thead><tbody><tr><td>1</td><td>2008-07-31 14:22:31</td><td>Jeff Atwood</td><td>2018-08-29 02:34:23</td><td>El Cerrito, CA</td><td>44300</td><td>408587</td></tr><tr><td>2</td><td>2008-07-31 14:22:31</td><td>Geoff Dalgas</td><td>2018-08-23 17:31:56</td><td>Corvallis, OR</td><td>3491</td><td>23966</td></tr><tr><td>3</td><td>2008-07-31 14:22:31</td><td>Jarrod Dixon</td><td>2018-08-30 20:56:24</td><td>Raleigh, NC, United States</td><td>13418</td><td>24396</td></tr><tr><td>4</td><td>2008-07-31 14:22:31</td><td>Joel Spolsky</td><td>2018-08-14 22:18:15</td><td>New York, NY</td><td>28768</td><td>73755</td></tr><tr><td>5</td><td>2008-07-31 14:22:31</td><td>Jon Galloway</td><td>2018-08-29 16:48:36</td><td>San Diego, CA</td><td>39172</td><td>11700</td></tr></tbody></table>"
   ]
  },
  {
   "cell_type": "markdown",
   "id": "96ba46b2",
   "metadata": {},
   "source": [
    "Таблица `users` содержит данные о пользователях."
   ]
  },
  {
   "cell_type": "markdown",
   "id": "8510410e",
   "metadata": {},
   "source": [
    "`выводим первые пять строк таблицы posts`\n",
    "``` sql \n",
    "SELECT *\n",
    "FROM stackoverflow.posts\n",
    "LIMIT 5\n",
    "```"
   ]
  },
  {
   "cell_type": "markdown",
   "id": "d0232b5d",
   "metadata": {},
   "source": [
    "<table cellpadding=\"0\" cellspacing=\"0\" style=\"margin: 0;\"><thead><tr><th scope=\"col\">id</th><th scope=\"col\">title</th><th scope=\"col\">creation_date</th><th scope=\"col\">favorites_count</th><th scope=\"col\">last_activity_date</th><th scope=\"col\">last_edit_date</th><th scope=\"col\">user_id</th><th scope=\"col\">parent_id</th><th scope=\"col\">post_type_id</th><th scope=\"col\">score</th><th scope=\"col\">views_count</th></tr></thead><tbody><tr><td>4</td><td>Convert Decimal to Double?</td><td>2008-07-31 21:42:53</td><td>41</td><td>2018-07-02 17:55:27.247</td><td>2018-07-02 17:55:27</td><td>8</td><td>0</td><td>1</td><td>573</td><td>37080</td></tr><tr><td>6</td><td>Percentage width child element in absolutely positioned parent on Internet Explorer 7</td><td>2008-07-31 22:08:09</td><td>10</td><td>2016-03-19 06:10:52.170</td><td>2016-03-19 06:05:48</td><td>9</td><td>0</td><td>1</td><td>256</td><td>16306</td></tr><tr><td>7</td><td></td><td>2008-07-31 22:17:58</td><td>0</td><td>2017-12-16 05:06:57.613</td><td>2017-12-16 05:06:58</td><td>9</td><td>4</td><td>2</td><td>401</td><td>0</td></tr><tr><td>9</td><td>How do I calculate someone's age in C#?</td><td>2008-07-31 23:41:00</td><td>399</td><td>2018-07-25 11:57:14.110</td><td>2018-04-21 17:48:14</td><td>1</td><td>0</td><td>1</td><td>1743</td><td>480476</td></tr><tr><td>11</td><td>Calculate relative time in C#</td><td>2008-07-31 23:55:38</td><td>529</td><td>2018-07-05 04:00:56.633</td><td>2017-06-04 15:51:20</td><td>1</td><td>0</td><td>1</td><td>1348</td><td>136033</td></tr></tbody></table>"
   ]
  },
  {
   "cell_type": "markdown",
   "id": "58ad87af",
   "metadata": {},
   "source": [
    "Таблица `posts` содержит информацию о постах."
   ]
  },
  {
   "cell_type": "markdown",
   "id": "98fbcc60",
   "metadata": {},
   "source": [
    "`выводим первые пять строк таблицы post_types`\n",
    "``` sql \n",
    "SELECT *\n",
    "FROM stackoverflow.post_types\n",
    "LIMIT 5\n",
    "```"
   ]
  },
  {
   "cell_type": "markdown",
   "id": "31f18f77",
   "metadata": {},
   "source": [
    "<table cellpadding=\"0\" cellspacing=\"0\" style=\"margin: 0;\"><thead><tr><th scope=\"col\">id</th><th scope=\"col\">type</th></tr></thead><tbody><tr><td>1</td><td>Question</td></tr><tr><td>2</td><td>Answer</td></tr></tbody></table>"
   ]
  },
  {
   "cell_type": "markdown",
   "id": "fbdc8ace",
   "metadata": {},
   "source": [
    "Таблица `post_types` содержит информацию о типе постов."
   ]
  },
  {
   "cell_type": "markdown",
   "id": "8f5f513a",
   "metadata": {},
   "source": [
    "`выводим первые пять строк таблицы badges`\n",
    "``` sql \n",
    "SELECT *\n",
    "FROM stackoverflow.badges\n",
    "LIMIT 5\n",
    "```"
   ]
  },
  {
   "cell_type": "markdown",
   "id": "799af824",
   "metadata": {},
   "source": [
    "<table cellpadding=\"0\" cellspacing=\"0\" style=\"margin: 0;\"><thead><tr><th scope=\"col\">id</th><th scope=\"col\">name</th><th scope=\"col\">user_id</th><th scope=\"col\">creation_date</th></tr></thead><tbody><tr><td>82947</td><td>Teacher</td><td>994</td><td>2008-09-15 08:55:04</td></tr><tr><td>82949</td><td>Teacher</td><td>3893</td><td>2008-09-15 08:55:04</td></tr><tr><td>82950</td><td>Teacher</td><td>4591</td><td>2008-09-15 08:55:04</td></tr><tr><td>82951</td><td>Teacher</td><td>5196</td><td>2008-09-15 08:55:04</td></tr><tr><td>82952</td><td>Teacher</td><td>2635</td><td>2008-09-15 08:55:04</td></tr></tbody></table>"
   ]
  },
  {
   "cell_type": "markdown",
   "id": "7a3bef9c",
   "metadata": {},
   "source": [
    "Таблица `badges` содержит информацию о значках, которые присуждаются за разные достижения. Например, пользователь, правильно ответивший на большое количество вопросов про PostgreSQL, может получить значок postgresql."
   ]
  },
  {
   "cell_type": "markdown",
   "id": "e1da9617",
   "metadata": {},
   "source": [
    "`выводим первые пять строк таблицы votes`\n",
    "``` sql \n",
    "SELECT *\n",
    "FROM stackoverflow.votes\n",
    "LIMIT 5\n",
    "```"
   ]
  },
  {
   "cell_type": "markdown",
   "id": "bbb2dee5",
   "metadata": {},
   "source": [
    "<table cellpadding=\"0\" cellspacing=\"0\" style=\"margin: 0;\"><thead><tr><th scope=\"col\">id</th><th scope=\"col\">post_id</th><th scope=\"col\">user_id</th><th scope=\"col\">bounty_amount</th><th scope=\"col\">vote_type_id</th><th scope=\"col\">creation_date</th></tr></thead><tbody><tr><td>434364</td><td>146794</td><td>4918</td><td></td><td>5</td><td>2008-10-03</td></tr><tr><td>434366</td><td>135535</td><td>16511</td><td></td><td>3</td><td>2008-10-03</td></tr><tr><td>434372</td><td>162181</td><td>12818</td><td></td><td>1</td><td>2008-10-03</td></tr><tr><td>434380</td><td>21965</td><td>4002</td><td></td><td>1</td><td>2008-10-03</td></tr><tr><td>434401</td><td>165975</td><td>8161</td><td></td><td>2</td><td>2008-10-03</td></tr></tbody></table>"
   ]
  },
  {
   "cell_type": "markdown",
   "id": "03849a3e",
   "metadata": {},
   "source": [
    "Таблица `votes` содержит информацию о голосах за посты."
   ]
  },
  {
   "cell_type": "markdown",
   "id": "8cc06c15",
   "metadata": {},
   "source": [
    "`выводим первые пять строк таблицы vote_types`\n",
    "``` sql \n",
    "SELECT *\n",
    "FROM stackoverflow.vote_types\n",
    "LIMIT 5\n",
    "```"
   ]
  },
  {
   "cell_type": "markdown",
   "id": "dacae62f",
   "metadata": {},
   "source": [
    "<table cellpadding=\"0\" cellspacing=\"0\" style=\"margin: 0;\"><thead><tr><th scope=\"col\">id</th><th scope=\"col\">name</th></tr></thead><tbody><tr><td>1</td><td>AcceptedByOriginator</td></tr><tr><td>2</td><td>UpMod</td></tr><tr><td>3</td><td>DownMod</td></tr><tr><td>4</td><td>Offensive</td></tr><tr><td>5</td><td>Favorite</td></tr></tbody></table>"
   ]
  },
  {
   "cell_type": "markdown",
   "id": "55fbe494",
   "metadata": {},
   "source": [
    "Таблица `vote_types` содержит информацию о типах голосов. Голос — это метка, которую пользователи ставят посту."
   ]
  },
  {
   "cell_type": "markdown",
   "id": "c882b46b",
   "metadata": {},
   "source": [
    "### Выведем общую сумму просмотров постов за каждый месяц 2008 года."
   ]
  },
  {
   "cell_type": "markdown",
   "id": "7b678c36",
   "metadata": {},
   "source": [
    "``` sql \n",
    "SELECT date_trunc('month', creation_date):: date AS month_,\n",
    "       sum(views_count)\n",
    "FROM stackoverflow.posts\n",
    "WHERE extract(YEAR\n",
    "              FROM creation_date) = 2008\n",
    "GROUP BY date_trunc('month', creation_date):: date\n",
    "ORDER BY sum(views_count) DESC\n",
    "```"
   ]
  },
  {
   "cell_type": "markdown",
   "id": "0777e14c",
   "metadata": {},
   "source": [
    "<table cellpadding=\"0\" cellspacing=\"0\" style=\"margin: 0;\"><thead><tr><th scope=\"col\">month_</th><th scope=\"col\">sum</th></tr></thead><tbody><tr><td>2008-09-01</td><td>452928568</td></tr><tr><td>2008-10-01</td><td>365400138</td></tr><tr><td>2008-11-01</td><td>221759651</td></tr><tr><td>2008-12-01</td><td>197792841</td></tr><tr><td>2008-08-01</td><td>131367083</td></tr><tr><td>2008-07-01</td><td>669895</td></tr></tbody></table>"
   ]
  },
  {
   "cell_type": "markdown",
   "id": "9b799da6",
   "metadata": {},
   "source": [
    "Больше всего сумма просмотров постов в сентябре и в октябре, возможно это связано с началом учебного года. \n",
    "\n",
    "Меньше всего в июле, это может быть связано с неполнотой данных в базе. "
   ]
  },
  {
   "cell_type": "markdown",
   "id": "9381ca39",
   "metadata": {},
   "source": [
    "### Выведем имена самых активных пользователей, которые в первый месяц после регистрации (включая день регистрации) дали больше 100 ответов. Вопросы, которые задавали пользователи, не учитываем. Для каждого имени пользователя выведем количество уникальных значений user_id. Отсортируем результат по полю с именами в лексикографическом порядке."
   ]
  },
  {
   "cell_type": "markdown",
   "id": "553f767c",
   "metadata": {},
   "source": [
    "``` sql \n",
    "SELECT u.display_name,\n",
    "       count(DISTINCT p.user_id)\n",
    "FROM stackoverflow.users AS u\n",
    "JOIN stackoverflow.posts AS p ON p.user_id = u.id\n",
    "WHERE post_type_id = 2\n",
    "  AND p.creation_date::date BETWEEN u.creation_date ::date AND u.creation_date ::date + interval '1 month'\n",
    "GROUP BY 1\n",
    "HAVING count(p.id) > 100\n",
    "```"
   ]
  },
  {
   "cell_type": "markdown",
   "id": "565a7387",
   "metadata": {},
   "source": [
    "<div class=\"table__wrapper\" style=\"overflow-y:auto; max-height:250px;\"><table cellpadding=\"0\" cellspacing=\"0\" style=\"margin: 0;\"><thead><tr><th scope=\"col\">display_name</th><th scope=\"col\">count</th></tr></thead><tbody><tr><td>1800 INFORMATION</td><td>1</td></tr><tr><td>Adam Bellaire</td><td>1</td></tr><tr><td>Adam Davis</td><td>1</td></tr><tr><td>Adam Liss</td><td>1</td></tr><tr><td>aku</td><td>1</td></tr><tr><td>Alan</td><td>8</td></tr><tr><td>Amy B</td><td>1</td></tr><tr><td>anjanb</td><td>1</td></tr><tr><td>Ben Hoffstein</td><td>1</td></tr><tr><td>Brian</td><td>15</td></tr><tr><td>Cade Roux</td><td>1</td></tr><tr><td>CesarB</td><td>1</td></tr><tr><td>Chris</td><td>29</td></tr><tr><td>ConcernedOfTunbridgeWells</td><td>1</td></tr><tr><td>Craig</td><td>10</td></tr><tr><td>Dale Ragan</td><td>1</td></tr><tr><td>Dan</td><td>21</td></tr><tr><td>dkretz</td><td>1</td></tr><tr><td>Eric Z Beard</td><td>1</td></tr><tr><td>Espo</td><td>1</td></tr><tr><td>FlySwat</td><td>1</td></tr><tr><td>Franci Penov</td><td>1</td></tr><tr><td>frankodwyer</td><td>1</td></tr><tr><td>GateKiller</td><td>1</td></tr><tr><td>gbjbaanb</td><td>1</td></tr><tr><td>GEOCHET</td><td>1</td></tr><tr><td>Greg</td><td>12</td></tr><tr><td>Gulzar Nazim</td><td>1</td></tr><tr><td>Ilya Kochetov</td><td>1</td></tr><tr><td>James Curran</td><td>1</td></tr><tr><td>jfs</td><td>3</td></tr><tr><td>Jim</td><td>7</td></tr><tr><td>Joe</td><td>9</td></tr><tr><td>Joel Coehoorn</td><td>1</td></tr><tr><td>Johannes Schaub - litb</td><td>1</td></tr><tr><td>John Millikin</td><td>1</td></tr><tr><td>Jon Limjap</td><td>1</td></tr><tr><td>Jon Skeet</td><td>1</td></tr><tr><td>Jorge Ferreira</td><td>1</td></tr><tr><td>Josh</td><td>16</td></tr><tr><td>Keith</td><td>5</td></tr><tr><td>Kevin</td><td>11</td></tr><tr><td>Kibbee</td><td>1</td></tr><tr><td>Konrad Rudolph</td><td>1</td></tr><tr><td>Lasse Vågsæther Karlsen</td><td>1</td></tr><tr><td>leppie</td><td>1</td></tr><tr><td>lomaxx</td><td>1</td></tr><tr><td>Lou Franco</td><td>1</td></tr><tr><td>Marc Gravell</td><td>1</td></tr><tr><td>Mark</td><td>17</td></tr><tr><td>Mark Cidade</td><td>1</td></tr><tr><td>Mark Harrison</td><td>1</td></tr><tr><td>Martin v. Löwis</td><td>1</td></tr><tr><td>Matt</td><td>29</td></tr><tr><td>Matt Hamilton</td><td>1</td></tr><tr><td>mattlant</td><td>1</td></tr><tr><td>Michael Burr</td><td>1</td></tr><tr><td>Michael Stum</td><td>1</td></tr><tr><td>Mitchel Sellers</td><td>1</td></tr><tr><td>Nick</td><td>16</td></tr><tr><td>Norman Ramsey</td><td>1</td></tr><tr><td>Oli</td><td>3</td></tr><tr><td>Orion Edwards</td><td>1</td></tr><tr><td>Paul Nathan</td><td>1</td></tr><tr><td>paxdiablo</td><td>1</td></tr><tr><td>PhiLho</td><td>1</td></tr><tr><td>Rob</td><td>15</td></tr><tr><td>Rob Cooper</td><td>1</td></tr><tr><td>Rob Walker</td><td>1</td></tr><tr><td>Ryan</td><td>10</td></tr><tr><td>Sklivvz</td><td>1</td></tr><tr><td>S.Lott</td><td>1</td></tr><tr><td>Steven A. Lowe</td><td>1</td></tr><tr><td>TheSmurf</td><td>1</td></tr><tr><td>Tom</td><td>19</td></tr><tr><td>tvanfosson</td><td>1</td></tr><tr><td>tzot</td><td>1</td></tr><tr><td>Vilx-</td><td>1</td></tr><tr><td>Vinko Vrsalovic</td><td>1</td></tr></tbody></table></div>"
   ]
  },
  {
   "cell_type": "markdown",
   "id": "3955fb1b",
   "metadata": {},
   "source": [
    "Видно, что некоторым популярным именам пользователей соответствуют несколько user_id. Данные лучше не анализировать по имени, иначе результаты будут некорректными."
   ]
  },
  {
   "cell_type": "markdown",
   "id": "68af43e2",
   "metadata": {},
   "source": [
    "### Выведем количество постов за 2008 год по месяцам. Отберём посты от пользователей, которые зарегистрировались в сентябре 2008 года и сделали хотя бы один пост в декабре того же года. Отсортируем таблицу по значению месяца по убыванию."
   ]
  },
  {
   "cell_type": "markdown",
   "id": "376424d2",
   "metadata": {},
   "source": [
    "``` sql \n",
    "SELECT date_trunc('month', p.creation_date) :: date,\n",
    "       count(p.id)\n",
    "FROM stackoverflow.users AS u\n",
    "JOIN stackoverflow.posts AS p ON p.user_id = u.id\n",
    "WHERE extract(YEAR\n",
    "              FROM p.creation_date::date) = 2008\n",
    "  AND extract(YEAR\n",
    "              FROM u.creation_date::date) = 2008\n",
    "  AND extract(MONTH\n",
    "              FROM u.creation_date::date) = 09\n",
    "  AND u.id in\n",
    "    (SELECT user_id\n",
    "     FROM stackoverflow.posts\n",
    "     WHERE extract(YEAR\n",
    "                   FROM creation_date::date) = 2008\n",
    "       AND extract(MONTH\n",
    "                   FROM creation_date::date) = 12)\n",
    "GROUP BY 1\n",
    "ORDER BY 1 DESC\n",
    "```"
   ]
  },
  {
   "cell_type": "markdown",
   "id": "b0085538",
   "metadata": {},
   "source": [
    "<div class=\"table__wrapper\"><table cellpadding=\"0\" cellspacing=\"0\" style=\"margin: 0;\"><thead><tr><th scope=\"col\">date_trunc</th><th scope=\"col\">count</th></tr></thead><tbody><tr><td>2008-12-01</td><td>17641</td></tr><tr><td>2008-11-01</td><td>18294</td></tr><tr><td>2008-10-01</td><td>27171</td></tr><tr><td>2008-09-01</td><td>24870</td></tr><tr><td>2008-08-01</td><td>32</td></tr></tbody></table></div>"
   ]
  },
  {
   "cell_type": "markdown",
   "id": "25077d13",
   "metadata": {},
   "source": [
    "Видно, что пользователи, зарегистрировавшиеся в сентябре, делали посты в августе. Возможно это ошибка в данных. "
   ]
  },
  {
   "cell_type": "markdown",
   "id": "991e5171",
   "metadata": {},
   "source": [
    "### Используя данные о постах, выведем несколько полей:\n",
    "- идентификатор пользователя, который написал пост;\n",
    "- дата создания поста;\n",
    "- количество просмотров у текущего поста;\n",
    "- сумму просмотров постов автора с накоплением.\n",
    "\n",
    "Данные в таблице отсортируем по возрастанию идентификаторов пользователей, а данные об одном и том же пользователе — по возрастанию даты создания поста."
   ]
  },
  {
   "cell_type": "markdown",
   "id": "79291cfc",
   "metadata": {},
   "source": [
    "``` sql \n",
    "SELECT user_id,\n",
    "       creation_date,\n",
    "       views_count,\n",
    "       sum(views_count) OVER (PARTITION BY user_id ORDER BY creation_date)\n",
    "FROM stackoverflow.posts\n",
    "ORDER BY 1,\n",
    "         2\n",
    "```"
   ]
  },
  {
   "cell_type": "markdown",
   "id": "59c3c357",
   "metadata": {},
   "source": [
    "<div class=\"table__wrapper\" style=\"overflow-y:auto; max-height:250px;\"><table cellpadding=\"0\" cellspacing=\"0\" style=\"margin: 0;\"><thead><tr><th scope=\"col\">user_id</th><th scope=\"col\">creation_date</th><th scope=\"col\">views_count</th><th scope=\"col\">sum</th></tr></thead><tbody><tr><td>1</td><td>2008-07-31 23:41:00</td><td>480476</td><td>480476</td></tr><tr><td>1</td><td>2008-07-31 23:55:38</td><td>136033</td><td>616509</td></tr><tr><td>1</td><td>2008-07-31 23:56:41</td><td>0</td><td>616509</td></tr><tr><td>1</td><td>2008-08-04 02:45:08</td><td>0</td><td>616509</td></tr><tr><td>1</td><td>2008-08-04 04:31:03</td><td>0</td><td>616509</td></tr><tr><td>1</td><td>2008-08-04 08:04:42</td><td>0</td><td>616509</td></tr><tr><td>1</td><td>2008-08-10 08:28:52</td><td>0</td><td>616509</td></tr><tr><td>1</td><td>2008-08-11 19:23:47</td><td>0</td><td>616509</td></tr><tr><td>1</td><td>2008-08-12 00:30:43</td><td>0</td><td>616509</td></tr><tr><td>1</td><td>2008-08-12 04:59:35</td><td>72431</td><td>688940</td></tr><tr><td>1</td><td>2008-08-12 05:02:49</td><td>0</td><td>688940</td></tr><tr><td>1</td><td>2008-08-12 23:13:41</td><td>0</td><td>688940</td></tr><tr><td>1</td><td>2008-08-12 23:27:54</td><td>0</td><td>688940</td></tr><tr><td>1</td><td>2008-08-13 03:30:59</td><td>0</td><td>688940</td></tr><tr><td>1</td><td>2008-08-13 12:03:06</td><td>0</td><td>688940</td></tr><tr><td>1</td><td>2008-08-14 03:10:23</td><td>0</td><td>688940</td></tr><tr><td>1</td><td>2008-08-14 03:13:57</td><td>0</td><td>688940</td></tr><tr><td>1</td><td>2008-08-14 03:17:18</td><td>0</td><td>688940</td></tr><tr><td>1</td><td>2008-08-14 13:48:03</td><td>0</td><td>688940</td></tr><tr><td>1</td><td>2008-08-17 02:58:18</td><td>0</td><td>688940</td></tr><tr><td>1</td><td>2008-08-17 03:00:34</td><td>0</td><td>688940</td></tr><tr><td>1</td><td>2008-08-19 16:51:17</td><td>0</td><td>688940</td></tr><tr><td>1</td><td>2008-08-21 14:18:42</td><td>27533</td><td>716473</td></tr><tr><td>1</td><td>2008-08-24 23:40:09</td><td>0</td><td>716473</td></tr><tr><td>1</td><td>2008-08-25 00:11:44</td><td>0</td><td>716473</td></tr><tr><td>1</td><td>2008-08-25 13:43:42</td><td>0</td><td>716473</td></tr><tr><td>1</td><td>2008-08-27 13:08:30</td><td>0</td><td>716473</td></tr><tr><td>1</td><td>2008-08-28 11:23:59</td><td>0</td><td>716473</td></tr><tr><td>1</td><td>2008-08-28 13:26:28</td><td>0</td><td>716473</td></tr><tr><td>1</td><td>2008-09-01 12:03:31</td><td>0</td><td>716473</td></tr><tr><td>1</td><td>2008-09-07 19:17:04</td><td>0</td><td>716473</td></tr><tr><td>1</td><td>2008-09-08 20:04:18</td><td>0</td><td>716473</td></tr><tr><td>1</td><td>2008-09-10 16:08:15</td><td>0</td><td>716473</td></tr><tr><td>1</td><td>2008-09-15 11:03:36</td><td>0</td><td>716473</td></tr><tr><td>1</td><td>2008-09-19 08:46:43</td><td>0</td><td>716473</td></tr><tr><td>1</td><td>2008-09-20 16:22:52</td><td>0</td><td>716473</td></tr><tr><td>1</td><td>2008-09-25 18:42:55</td><td>0</td><td>716473</td></tr><tr><td>1</td><td>2008-09-25 21:58:05</td><td>6507</td><td>722980</td></tr><tr><td>1</td><td>2008-10-01 01:19:17</td><td>0</td><td>722980</td></tr><tr><td>1</td><td>2008-10-03 06:37:26</td><td>0</td><td>722980</td></tr><tr><td>1</td><td>2008-10-04 10:06:38</td><td>0</td><td>722980</td></tr><tr><td>1</td><td>2008-10-07 08:01:40</td><td>0</td><td>722980</td></tr><tr><td>1</td><td>2008-10-07 08:48:00</td><td>0</td><td>722980</td></tr><tr><td>1</td><td>2008-10-09 22:49:01</td><td>0</td><td>722980</td></tr><tr><td>1</td><td>2008-10-10 12:59:40</td><td>0</td><td>722980</td></tr><tr><td>1</td><td>2008-10-12 08:38:43</td><td>0</td><td>722980</td></tr><tr><td>1</td><td>2008-10-13 09:34:26</td><td>0</td><td>722980</td></tr><tr><td>1</td><td>2008-10-15 18:56:40</td><td>0</td><td>722980</td></tr><tr><td>1</td><td>2008-10-15 22:20:54</td><td>0</td><td>722980</td></tr><tr><td>1</td><td>2008-10-16 03:00:52</td><td>0</td><td>722980</td></tr><tr><td>1</td><td>2008-10-24 06:10:58</td><td>0</td><td>722980</td></tr><tr><td>1</td><td>2008-10-24 08:39:47</td><td>14969</td><td>737949</td></tr><tr><td>1</td><td>2008-10-24 15:45:16</td><td>0</td><td>737949</td></tr><tr><td>1</td><td>2008-10-30 16:49:27</td><td>0</td><td>737949</td></tr><tr><td>1</td><td>2008-11-01 17:56:16</td><td>0</td><td>737949</td></tr><tr><td>1</td><td>2008-11-06 01:17:47</td><td>0</td><td>737949</td></tr><tr><td>1</td><td>2008-11-12 14:02:14</td><td>0</td><td>737949</td></tr><tr><td>1</td><td>2008-11-13 14:59:51</td><td>0</td><td>737949</td></tr><tr><td>1</td><td>2008-11-17 12:58:22</td><td>0</td><td>737949</td></tr><tr><td>1</td><td>2008-11-26 04:15:42</td><td>5505</td><td>743454</td></tr><tr><td>1</td><td>2008-12-01 04:56:38</td><td>0</td><td>743454</td></tr><tr><td>1</td><td>2008-12-01 18:04:52</td><td>0</td><td>743454</td></tr><tr><td>1</td><td>2008-12-03 09:31:04</td><td>0</td><td>743454</td></tr><tr><td>1</td><td>2008-12-03 16:16:43</td><td>296436</td><td>1039890</td></tr><tr><td>1</td><td>2008-12-05 00:34:40</td><td>0</td><td>1039890</td></tr><tr><td>1</td><td>2008-12-11 16:57:58</td><td>0</td><td>1039890</td></tr><tr><td>1</td><td>2008-12-13 00:24:17</td><td>0</td><td>1039890</td></tr><tr><td>1</td><td>2008-12-23 11:00:13</td><td>0</td><td>1039890</td></tr><tr><td>1</td><td>2008-12-24 13:07:56</td><td>0</td><td>1039890</td></tr><tr><td>1</td><td>2008-12-30 08:23:07</td><td>0</td><td>1039890</td></tr><tr><td>2</td><td>2008-08-01 04:59:34</td><td>79087</td><td>79087</td></tr><tr><td>2</td><td>2008-08-01 05:09:56</td><td>65443</td><td>144530</td></tr><tr><td>2</td><td>2008-08-04 05:51:57</td><td>7628</td><td>152158</td></tr><tr><td>2</td><td>2008-08-21 20:53:51</td><td>0</td><td>152158</td></tr><tr><td>2</td><td>2008-10-13 23:46:09</td><td>2593</td><td>154751</td></tr><tr><td>2</td><td>2008-12-15 03:59:56</td><td>0</td><td>154751</td></tr><tr><td>3</td><td>2008-08-04 06:39:40</td><td>0</td><td>0</td></tr><tr><td>3</td><td>2008-08-04 22:42:55</td><td>0</td><td>0</td></tr><tr><td>3</td><td>2008-08-17 18:42:03</td><td>0</td><td>0</td></tr><tr><td>3</td><td>2008-08-27 13:36:08</td><td>0</td><td>0</td></tr><tr><td>3</td><td>2008-08-29 04:50:50</td><td>41138</td><td>41138</td></tr><tr><td>3</td><td>2008-08-29 19:38:32</td><td>0</td><td>41138</td></tr><tr><td>3</td><td>2008-09-14 08:37:14</td><td>0</td><td>41138</td></tr><tr><td>3</td><td>2008-10-05 23:33:44</td><td>0</td><td>41138</td></tr><tr><td>3</td><td>2008-11-13 02:56:02</td><td>0</td><td>41138</td></tr><tr><td>3</td><td>2008-11-14 03:30:04</td><td>0</td><td>41138</td></tr><tr><td>3</td><td>2008-11-16 01:21:29</td><td>0</td><td>41138</td></tr><tr><td>4</td><td>2008-08-15 20:06:53</td><td>0</td><td>0</td></tr><tr><td>4</td><td>2008-08-20 03:58:09</td><td>0</td><td>0</td></tr><tr><td>4</td><td>2008-08-20 21:47:57</td><td>0</td><td>0</td></tr><tr><td>4</td><td>2008-08-20 21:54:53</td><td>0</td><td>0</td></tr><tr><td>4</td><td>2008-08-21 13:40:14</td><td>0</td><td>0</td></tr><tr><td>4</td><td>2008-08-22 14:21:43</td><td>0</td><td>0</td></tr><tr><td>4</td><td>2008-08-24 03:22:54</td><td>0</td><td>0</td></tr><tr><td>4</td><td>2008-08-26 04:54:02</td><td>0</td><td>0</td></tr><tr><td>4</td><td>2008-09-14 19:51:49</td><td>1973</td><td>1973</td></tr><tr><td>4</td><td>2008-09-16 08:59:23</td><td>0</td><td>1973</td></tr><tr><td>4</td><td>2008-09-17 00:04:02</td><td>0</td><td>1973</td></tr><tr><td>4</td><td>2008-09-17 01:14:02</td><td>0</td><td>1973</td></tr><tr><td>4</td><td>2008-09-20 03:28:34</td><td>36985</td><td>38958</td></tr><tr><td>4</td><td>2008-09-24 03:16:07</td><td>0</td><td>38958</td></tr><tr><td>4</td><td>2008-10-02 04:35:46</td><td>0</td><td>38958</td></tr><tr><td>4</td><td>2008-11-03 23:13:21</td><td>0</td><td>38958</td></tr><tr><td>4</td><td>2008-12-03 16:41:17</td><td>0</td><td>38958</td></tr><tr><td>4</td><td>2008-12-06 08:09:56</td><td>0</td><td>38958</td></tr><tr><td>4</td><td>2008-12-18 06:51:21</td><td>0</td><td>38958</td></tr><tr><td>4</td><td>2008-12-20 05:11:17</td><td>0</td><td>38958</td></tr><tr><td>4</td><td>2008-12-23 20:51:59</td><td>0</td><td>38958</td></tr><tr><td>5</td><td>2008-08-02 05:20:22</td><td>0</td><td>0</td></tr><tr><td>5</td><td>2008-08-05 04:59:44</td><td>0</td><td>0</td></tr><tr><td>5</td><td>2008-08-06 21:47:47</td><td>0</td><td>0</td></tr><tr><td>5</td><td>2008-08-07 18:31:23</td><td>2832</td><td>2832</td></tr><tr><td>5</td><td>2008-08-07 18:38:30</td><td>0</td><td>2832</td></tr><tr><td>5</td><td>2008-08-07 19:26:21</td><td>0</td><td>2832</td></tr><tr><td>5</td><td>2008-08-07 21:21:01</td><td>0</td><td>2832</td></tr><tr><td>5</td><td>2008-08-07 21:26:42</td><td>0</td><td>2832</td></tr><tr><td>5</td><td>2008-08-11 18:48:03</td><td>0</td><td>2832</td></tr><tr><td>5</td><td>2008-08-12 15:44:26</td><td>0</td><td>2832</td></tr><tr><td>5</td><td>2008-08-12 19:09:31</td><td>0</td><td>2832</td></tr><tr><td>5</td><td>2008-08-12 19:59:18</td><td>0</td><td>2832</td></tr><tr><td>5</td><td>2008-08-13 23:57:29</td><td>0</td><td>2832</td></tr><tr><td>5</td><td>2008-08-14 07:23:01</td><td>0</td><td>2832</td></tr><tr><td>5</td><td>2008-08-14 08:03:12</td><td>0</td><td>2832</td></tr><tr><td>5</td><td>2008-08-14 08:18:23</td><td>0</td><td>2832</td></tr><tr><td>5</td><td>2008-08-14 08:35:31</td><td>0</td><td>2832</td></tr><tr><td>5</td><td>2008-08-14 09:03:48</td><td>0</td><td>2832</td></tr><tr><td>5</td><td>2008-08-14 23:31:35</td><td>0</td><td>2832</td></tr><tr><td>5</td><td>2008-08-15 03:57:06</td><td>0</td><td>2832</td></tr><tr><td>5</td><td>2008-08-15 15:48:59</td><td>8008</td><td>10840</td></tr><tr><td>5</td><td>2008-08-15 16:14:19</td><td>0</td><td>10840</td></tr><tr><td>5</td><td>2008-08-15 16:27:32</td><td>0</td><td>10840</td></tr><tr><td>5</td><td>2008-08-15 16:46:52</td><td>0</td><td>10840</td></tr><tr><td>5</td><td>2008-08-15 19:02:40</td><td>0</td><td>10840</td></tr><tr><td>5</td><td>2008-08-15 21:30:36</td><td>0</td><td>10840</td></tr><tr><td>5</td><td>2008-08-15 23:40:51</td><td>0</td><td>10840</td></tr><tr><td>5</td><td>2008-08-16 00:19:15</td><td>0</td><td>10840</td></tr><tr><td>5</td><td>2008-08-16 06:58:10</td><td>0</td><td>10840</td></tr><tr><td>5</td><td>2008-08-16 07:06:17</td><td>0</td><td>10840</td></tr><tr><td>5</td><td>2008-08-16 23:53:11</td><td>0</td><td>10840</td></tr><tr><td>5</td><td>2008-08-17 01:08:30</td><td>0</td><td>10840</td></tr><tr><td>5</td><td>2008-08-17 06:46:26</td><td>0</td><td>10840</td></tr><tr><td>5</td><td>2008-08-17 07:24:48</td><td>0</td><td>10840</td></tr><tr><td>5</td><td>2008-08-17 17:08:11</td><td>0</td><td>10840</td></tr><tr><td>5</td><td>2008-08-17 17:35:22</td><td>0</td><td>10840</td></tr><tr><td>5</td><td>2008-08-17 18:22:51</td><td>0</td><td>10840</td></tr><tr><td>5</td><td>2008-08-17 19:25:44</td><td>0</td><td>10840</td></tr><tr><td>5</td><td>2008-08-18 05:05:59</td><td>0</td><td>10840</td></tr><tr><td>5</td><td>2008-08-18 15:52:37</td><td>0</td><td>10840</td></tr><tr><td>5</td><td>2008-08-18 21:17:16</td><td>8529</td><td>19369</td></tr><tr><td>5</td><td>2008-08-19 15:53:29</td><td>0</td><td>19369</td></tr><tr><td>5</td><td>2008-08-19 16:01:12</td><td>0</td><td>19369</td></tr><tr><td>5</td><td>2008-08-19 16:29:06</td><td>0</td><td>19369</td></tr><tr><td>5</td><td>2008-08-19 18:49:28</td><td>0</td><td>19369</td></tr><tr><td>5</td><td>2008-08-19 21:17:42</td><td>0</td><td>19369</td></tr><tr><td>5</td><td>2008-08-19 21:53:38</td><td>0</td><td>19369</td></tr><tr><td>5</td><td>2008-08-19 22:18:36</td><td>0</td><td>19369</td></tr><tr><td>5</td><td>2008-08-19 23:16:21</td><td>1800</td><td>21169</td></tr><tr><td>5</td><td>2008-08-19 23:34:02</td><td>0</td><td>21169</td></tr><tr><td>5</td><td>2008-08-20 16:28:52</td><td>0</td><td>21169</td></tr><tr><td>5</td><td>2008-08-20 16:36:27</td><td>0</td><td>21169</td></tr><tr><td>5</td><td>2008-08-20 17:43:58</td><td>0</td><td>21169</td></tr><tr><td>5</td><td>2008-08-20 18:21:50</td><td>0</td><td>21169</td></tr><tr><td>5</td><td>2008-08-20 19:19:24</td><td>0</td><td>21169</td></tr><tr><td>5</td><td>2008-08-20 19:26:25</td><td>0</td><td>21169</td></tr><tr><td>5</td><td>2008-08-20 21:47:30</td><td>0</td><td>21169</td></tr><tr><td>5</td><td>2008-08-20 21:53:15</td><td>0</td><td>21169</td></tr><tr><td>5</td><td>2008-08-21 06:30:50</td><td>0</td><td>21169</td></tr><tr><td>5</td><td>2008-08-21 08:05:42</td><td>0</td><td>21169</td></tr><tr><td>5</td><td>2008-08-21 08:32:35</td><td>1046</td><td>22215</td></tr><tr><td>5</td><td>2008-08-21 16:40:19</td><td>0</td><td>22215</td></tr><tr><td>5</td><td>2008-08-21 20:11:17</td><td>0</td><td>22215</td></tr><tr><td>5</td><td>2008-08-21 21:05:31</td><td>0</td><td>22215</td></tr><tr><td>5</td><td>2008-08-22 21:43:35</td><td>0</td><td>22215</td></tr><tr><td>5</td><td>2008-08-25 05:15:06</td><td>0</td><td>22215</td></tr><tr><td>5</td><td>2008-08-25 07:40:42</td><td>0</td><td>22215</td></tr><tr><td>5</td><td>2008-08-25 21:31:54</td><td>0</td><td>22215</td></tr><tr><td>5</td><td>2008-08-25 21:45:57</td><td>0</td><td>22215</td></tr><tr><td>5</td><td>2008-08-26 18:32:35</td><td>462</td><td>22677</td></tr><tr><td>5</td><td>2008-08-26 18:58:15</td><td>0</td><td>22677</td></tr><tr><td>5</td><td>2008-08-26 19:19:28</td><td>0</td><td>22677</td></tr><tr><td>5</td><td>2008-08-27 23:48:37</td><td>1114</td><td>23791</td></tr><tr><td>5</td><td>2008-08-28 19:54:03</td><td>49246</td><td>73037</td></tr><tr><td>5</td><td>2008-08-28 20:57:55</td><td>0</td><td>73037</td></tr><tr><td>5</td><td>2008-08-31 03:24:05</td><td>0</td><td>73037</td></tr><tr><td>5</td><td>2008-09-02 04:38:06</td><td>1099</td><td>74136</td></tr><tr><td>5</td><td>2008-09-02 05:38:59</td><td>0</td><td>74136</td></tr><tr><td>5</td><td>2008-09-02 08:23:49</td><td>0</td><td>74136</td></tr><tr><td>5</td><td>2008-09-02 08:28:22</td><td>0</td><td>74136</td></tr><tr><td>5</td><td>2008-09-02 22:29:04</td><td>0</td><td>74136</td></tr><tr><td>5</td><td>2008-09-09 17:03:07</td><td>0</td><td>74136</td></tr><tr><td>5</td><td>2008-09-09 21:40:25</td><td>0</td><td>74136</td></tr><tr><td>5</td><td>2008-09-09 22:09:32</td><td>0</td><td>74136</td></tr><tr><td>5</td><td>2008-09-10 14:10:13</td><td>0</td><td>74136</td></tr><tr><td>5</td><td>2008-09-10 14:28:24</td><td>0</td><td>74136</td></tr><tr><td>5</td><td>2008-09-11 05:05:59</td><td>0</td><td>74136</td></tr><tr><td>5</td><td>2008-09-11 05:12:42</td><td>1469</td><td>75605</td></tr><tr><td>5</td><td>2008-09-11 07:35:43</td><td>0</td><td>75605</td></tr><tr><td>5</td><td>2008-09-11 08:21:49</td><td>0</td><td>75605</td></tr><tr><td>5</td><td>2008-09-12 16:01:55</td><td>0</td><td>75605</td></tr><tr><td>5</td><td>2008-09-12 16:20:24</td><td>3839</td><td>79444</td></tr></tbody></table></div>"
   ]
  },
  {
   "cell_type": "markdown",
   "id": "d72b89d0",
   "metadata": {},
   "source": [
    "Вывели таблицу с помощью оконной функции, что существенно сократило длину запроса. "
   ]
  },
  {
   "cell_type": "markdown",
   "id": "89c69ef8",
   "metadata": {},
   "source": [
    "### Выведем число, сколько в среднем дней в период с 1 по 7 декабря 2008 года включительно пользователи взаимодействовали с платформой. Для каждого пользователя отберём те дни, в которые он или она опубликовали хотя бы один пост. Округлим результат до целого числа."
   ]
  },
  {
   "cell_type": "markdown",
   "id": "ca30c786",
   "metadata": {},
   "source": [
    "``` sql \n",
    "SELECT round(avg(COUNT))\n",
    "FROM\n",
    "  (SELECT user_id,\n",
    "          count(DISTINCT creation_date:: date)\n",
    "   FROM stackoverflow.posts\n",
    "   WHERE creation_date BETWEEN '2008-12-01' AND '2008-12-07'\n",
    "   GROUP BY 1\n",
    "   ORDER BY 1,\n",
    "            2) AS t1\n",
    "```"
   ]
  },
  {
   "cell_type": "markdown",
   "id": "1921d89e",
   "metadata": {},
   "source": [
    "<table cellpadding=\"0\" cellspacing=\"0\" style=\"margin: 0;\"><thead><tr><th scope=\"col\">round</th></tr></thead><tbody><tr><td>2</td></tr></tbody></table>"
   ]
  },
  {
   "cell_type": "markdown",
   "id": "0e7aa7d7",
   "metadata": {},
   "source": [
    "В среднем пользователи взаимодействовали с платформой 2 дня в период с 1 по 7 декабря 2008 года включительно."
   ]
  },
  {
   "cell_type": "markdown",
   "id": "4dfd5c0b",
   "metadata": {},
   "source": [
    "### На сколько процентов менялось количество постов ежемесячно с 1 сентября по 31 декабря 2008 года? Отобразим таблицу со следующими полями:\n",
    "- номер месяца;\n",
    "- количество постов за месяц;\n",
    "- процент, который показывает, насколько изменилось количество постов в текущем месяце по сравнению с предыдущим.\n",
    "\n",
    "Округлим значение процента до двух знаков после запятой."
   ]
  },
  {
   "cell_type": "markdown",
   "id": "62a55cb6",
   "metadata": {},
   "source": [
    "``` sql \n",
    "SELECT *,\n",
    "       round((posts_cnt::numeric - lag(posts_cnt) OVER (ORDER BY num_month))/lag(posts_cnt) OVER (ORDER BY num_month) * 100, 2)\n",
    "FROM\n",
    "  (SELECT extract(MONTH\n",
    "                  FROM creation_date :: date) AS num_month,\n",
    "          count(id) AS posts_cnt\n",
    "   FROM stackoverflow.posts\n",
    "   WHERE creation_date :: date BETWEEN '2008-09-01' AND '2008-12-31'\n",
    "   GROUP BY 1) AS t1\n",
    "```"
   ]
  },
  {
   "cell_type": "markdown",
   "id": "e15a16c5",
   "metadata": {},
   "source": [
    "<div class=\"table__wrapper\"><table cellpadding=\"0\" cellspacing=\"0\" style=\"margin: 0;\"><thead><tr><th scope=\"col\">num_month</th><th scope=\"col\">posts_cnt</th><th scope=\"col\">round</th></tr></thead><tbody><tr><td>9</td><td>70371</td><td></td></tr><tr><td>10</td><td>63102</td><td>-10.33</td></tr><tr><td>11</td><td>46975</td><td>-25.56</td></tr><tr><td>12</td><td>44592</td><td>-5.07</td></tr></tbody></table></div>"
   ]
  },
  {
   "cell_type": "markdown",
   "id": "1bf38b85",
   "metadata": {},
   "source": [
    "Видно, что количество постов уменьшается от сентября к декабрю. "
   ]
  },
  {
   "cell_type": "markdown",
   "id": "df58db4d",
   "metadata": {},
   "source": [
    "### Выгрузим данные активности пользователя, который опубликовал больше всего постов за всё время. Выведем данные за октябрь 2008 года в таком виде:\n",
    "- номер недели;\n",
    "- дата и время последнего поста, опубликованного на этой неделе."
   ]
  },
  {
   "cell_type": "markdown",
   "id": "46957a2f",
   "metadata": {},
   "source": [
    "``` sql \n",
    "WITH most_active_user AS\n",
    "  (SELECT user_id,\n",
    "          count(DISTINCT p.creation_date)\n",
    "   FROM stackoverflow.users AS u\n",
    "   JOIN stackoverflow.posts AS p ON p.user_id = u.id\n",
    "   GROUP BY user_id\n",
    "   ORDER BY 2 DESC\n",
    "   LIMIT 1)\n",
    "\n",
    "SELECT extract(WEEK\n",
    "               FROM p.creation_date),\n",
    "       max(p.creation_date)\n",
    "FROM stackoverflow.users AS u\n",
    "JOIN stackoverflow.posts AS p ON p.user_id = u.id\n",
    "WHERE p.user_id in\n",
    "    (SELECT user_id\n",
    "     FROM most_active_user)\n",
    "  AND p.creation_date:: date BETWEEN '2008-10-01' AND '2008-10-31'\n",
    "GROUP BY 1\n",
    "```"
   ]
  },
  {
   "cell_type": "markdown",
   "id": "c3b5ec15",
   "metadata": {},
   "source": [
    "<div class=\"table__wrapper\"><table cellpadding=\"0\" cellspacing=\"0\" style=\"margin: 0;\"><thead><tr><th scope=\"col\">date_part</th><th scope=\"col\">max</th></tr></thead><tbody><tr><td>40</td><td>2008-10-05 09:00:58</td></tr><tr><td>41</td><td>2008-10-12 21:22:23</td></tr><tr><td>42</td><td>2008-10-19 06:49:30</td></tr><tr><td>43</td><td>2008-10-26 21:44:36</td></tr><tr><td>44</td><td>2008-10-31 22:16:01</td></tr></tbody></table></div>"
   ]
  },
  {
   "cell_type": "markdown",
   "id": "19193f36",
   "metadata": {},
   "source": [
    "### Напишем запрос, который выгрузит данные о пользователях из США. Разделим пользователей на три группы в зависимости от количества просмотров их профилей:\n",
    "- пользователям с числом просмотров больше либо равным 350 присвоим группу 1;\n",
    "- пользователям с числом просмотров меньше 350, но больше либо равно 100 — группу 2;\n",
    "- пользователям с числом просмотров меньше 100 — группу 3\n",
    "\n",
    "Отобразим лидеров каждой группы — пользователей, которые набрали максимальное число просмотров в своей группе. "
   ]
  },
  {
   "cell_type": "markdown",
   "id": "e688c4a0",
   "metadata": {},
   "source": [
    "``` sql \n",
    "SELECT id,\n",
    "       group_views,\n",
    "       views\n",
    "FROM\n",
    "  (SELECT id,\n",
    "          group_views,\n",
    "          views,\n",
    "          dense_rank() OVER (PARTITION BY group_views ORDER BY views DESC) AS rank_views\n",
    "   FROM\n",
    "     (SELECT id,\n",
    "             views,\n",
    "             CASE\n",
    "                 WHEN views >= 350 THEN 1\n",
    "                 WHEN views < 350\n",
    "                      AND views >= 100 THEN 2\n",
    "                 WHEN views < 100 THEN 3\n",
    "             END AS group_views\n",
    "      FROM stackoverflow.users\n",
    "      WHERE LOCATION like '%United States%'\n",
    "        AND VIEWS > 0) AS t1) AS t2\n",
    "WHERE rank_views = 1\n",
    "ORDER BY 3 DESC,\n",
    "         1\n",
    "```"
   ]
  },
  {
   "cell_type": "markdown",
   "id": "04cfcc95",
   "metadata": {},
   "source": [
    "<table cellpadding=\"0\" cellspacing=\"0\" style=\"margin: 0;\"><thead><tr><th scope=\"col\">id</th><th scope=\"col\">group_views</th><th scope=\"col\">views</th></tr></thead><tbody><tr><td>16587</td><td>1</td><td>62813</td></tr><tr><td>9094</td><td>2</td><td>349</td></tr><tr><td>9585</td><td>2</td><td>349</td></tr><tr><td>15079</td><td>2</td><td>349</td></tr><tr><td>33437</td><td>2</td><td>349</td></tr><tr><td>3469</td><td>3</td><td>99</td></tr><tr><td>4829</td><td>3</td><td>99</td></tr><tr><td>19006</td><td>3</td><td>99</td></tr><tr><td>22732</td><td>3</td><td>99</td></tr><tr><td>403434</td><td>3</td><td>99</td></tr></tbody></table>"
   ]
  },
  {
   "cell_type": "markdown",
   "id": "300d0e12",
   "metadata": {},
   "source": [
    "Пользователь с user_id `16587` получил больше всего просмотров среди пользователей из США и занял первое место в  первой группе. А во второй и третьей группе у нас несколько лидеров, которые набрали одинаковое количество просмотров.  \t"
   ]
  },
  {
   "cell_type": "markdown",
   "id": "a0ec21fc",
   "metadata": {},
   "source": [
    "# Общий вывод"
   ]
  },
  {
   "cell_type": "markdown",
   "id": "1a009470",
   "metadata": {},
   "source": [
    "Мы с помощью SQL посчитали и визуализировали некоторые метрики сервис-системы вопросов и ответов о программировании.\n",
    "\n",
    "Количество просмотров постов было наибольше в сентябре и октябре, возможно из-за начала учебного года. Наименьшее количество просмотров было в июле, что может быть связано с неполнотой данных в базе в то время.\n",
    "\n",
    "Некоторые популярные имена пользователей соответствуют нескольким user_id. Лучше не анализировать данные по имени, иначе результаты будут некорректными.\n",
    "\n",
    "Некоторые пользователи, зарегистрировавшиеся в сентябре, делали посты в августе. Это может быть ошибка в данных.\n",
    "\n",
    "В среднем пользователи взаимодействовали с платформой 2 дня с 1 по 7 декабря 2008 года.\n",
    "\n",
    "Количество постов уменьшается от сентября к декабрю.\n",
    "\n",
    "Пользователи были разделены на три группы в зависимости от количества просмотров их профилей:\n",
    "- Пользователям с более 350 просмотрами была присвоена группа 1.\n",
    "- Пользователям с просмотрами от 350 до 100 была присвоена группа 2.\n",
    "- Пользователям с менее 100 просмотрами была присвоена группа 3.\n",
    "\n",
    "Пользователь с user_id 16587 получил наибольшее количество просмотров среди пользователей из США и занял первое место в первой группе. А во второй и третьей группах у нас несколько лидеров, которые набрали одинаковое количество просмотров.\n",
    "\n",
    "В итоге, данные показывают некоторые несоответствия и ошибки, которые необходимо устранить, чтобы обеспечить точный анализ и результаты. Количество постов и просмотров варьируется по месяцам, с наибольшей активностью осенью."
   ]
  },
  {
   "cell_type": "code",
   "execution_count": null,
   "id": "e6f17efb",
   "metadata": {},
   "outputs": [],
   "source": []
  }
 ],
 "metadata": {
  "kernelspec": {
   "display_name": "Python 3 (ipykernel)",
   "language": "python",
   "name": "python3"
  },
  "language_info": {
   "codemirror_mode": {
    "name": "ipython",
    "version": 3
   },
   "file_extension": ".py",
   "mimetype": "text/x-python",
   "name": "python",
   "nbconvert_exporter": "python",
   "pygments_lexer": "ipython3",
   "version": "3.10.9"
  }
 },
 "nbformat": 4,
 "nbformat_minor": 5
}
